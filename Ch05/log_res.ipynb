{
 "metadata": {
  "language_info": {
   "codemirror_mode": {
    "name": "ipython",
    "version": 3
   },
   "file_extension": ".py",
   "mimetype": "text/x-python",
   "name": "python",
   "nbconvert_exporter": "python",
   "pygments_lexer": "ipython3",
   "version": "3.8.10"
  },
  "orig_nbformat": 2,
  "kernelspec": {
   "name": "python3810jvsc74a57bd082b6f5812ea506d741ac7a355c38975a8264e75987c5404f7effc78bc7e6db28",
   "display_name": "Python 3.8.10 64-bit ('d2l': conda)"
  }
 },
 "nbformat": 4,
 "nbformat_minor": 2,
 "cells": [
  {
   "cell_type": "code",
   "execution_count": 1,
   "metadata": {},
   "outputs": [],
   "source": [
    "import numpy as np "
   ]
  },
  {
   "cell_type": "code",
   "execution_count": 4,
   "metadata": {},
   "outputs": [],
   "source": [
    "def load_dataset():\n",
    "    data_mat = []; label_mat = []\n",
    "    with open('testSet.txt') as fr:\n",
    "        for line in fr.readlines():\n",
    "            line_arr = line.strip().split()\n",
    "            data_mat.append([1.0, float(line_arr[0]), float(line_arr[1])])\n",
    "            label_mat.append(int(line_arr[2]))\n",
    "    return data_mat, label_mat\n",
    "\n",
    "def sigmoid(inx):\n",
    "    return 1.0/(1 + np.exp(-inx))\n",
    "\n",
    "def grad_ascent(data_mat_in, classlabels):\n",
    "    data_mat = np.mat(data_mat_in)\n",
    "    label_mat = np.mat(classlabels).transpose()\n",
    "    m, n = np.shape(data_mat)\n",
    "    alpha = 0.001\n",
    "    max_cycles = 500\n",
    "    weights = np.ones((n,1))\n",
    "    for k in range(max_cycles):\n",
    "        h = sigmoid(data_mat * weights)\n",
    "        error = (label_mat - h)\n",
    "        weights = weights + alpha * data_mat.transpose() * error \n",
    "    return weights"
   ]
  },
  {
   "cell_type": "code",
   "execution_count": 5,
   "metadata": {},
   "outputs": [
    {
     "output_type": "execute_result",
     "data": {
      "text/plain": [
       "matrix([[ 4.12414349],\n",
       "        [ 0.48007329],\n",
       "        [-0.6168482 ]])"
      ]
     },
     "metadata": {},
     "execution_count": 5
    }
   ],
   "source": [
    "data_arr, label_mat = load_dataset()\n",
    "grad_ascent(data_arr, label_mat)"
   ]
  },
  {
   "cell_type": "code",
   "execution_count": null,
   "metadata": {},
   "outputs": [],
   "source": []
  }
 ]
}