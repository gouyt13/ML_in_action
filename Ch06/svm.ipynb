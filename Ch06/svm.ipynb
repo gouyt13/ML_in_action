{
 "metadata": {
  "language_info": {
   "codemirror_mode": {
    "name": "ipython",
    "version": 3
   },
   "file_extension": ".py",
   "mimetype": "text/x-python",
   "name": "python",
   "nbconvert_exporter": "python",
   "pygments_lexer": "ipython3",
   "version": "3.8.10"
  },
  "orig_nbformat": 2,
  "kernelspec": {
   "name": "python3",
   "display_name": "Python 3.8.10 64-bit ('d2l': conda)"
  },
  "interpreter": {
   "hash": "82b6f5812ea506d741ac7a355c38975a8264e75987c5404f7effc78bc7e6db28"
  }
 },
 "nbformat": 4,
 "nbformat_minor": 2,
 "cells": [
  {
   "cell_type": "code",
   "execution_count": 2,
   "metadata": {},
   "outputs": [],
   "source": [
    "import numpy as np \n",
    "\n",
    "def load_dataset(filename):\n",
    "    data_mat = []; label_mat = []\n",
    "    with open(filename) as fr:\n",
    "        for line in fr.readlines():\n",
    "            line_arr = line.strip().split('\\t')\n",
    "            data_mat.append([float(line_arr[0]), float(line_arr[1])])\n",
    "            label_mat.append(float(line_arr[2]))\n",
    "    return data_mat, label_mat\n",
    "\n",
    "def select_jrand(i, m):\n",
    "    # 随机选择另一个优化的j,不等于i\n",
    "    j = i \n",
    "    while j == i:\n",
    "        j = np.random.randint(0, m)\n",
    "    return j\n",
    "\n",
    "def clip_alpha(aj, H, L):\n",
    "    aj = max(aj, L)\n",
    "    aj = min(aj, H)\n",
    "    return aj"
   ]
  },
  {
   "cell_type": "code",
   "execution_count": 3,
   "metadata": {},
   "outputs": [
    {
     "output_type": "stream",
     "name": "stdout",
     "text": [
      "[-1.0, -1.0, 1.0, -1.0, 1.0, 1.0, 1.0, -1.0, -1.0, -1.0, -1.0, -1.0, -1.0, 1.0, -1.0, 1.0, 1.0, -1.0, 1.0, -1.0, -1.0, -1.0, 1.0, -1.0, -1.0, 1.0, 1.0, -1.0, -1.0, -1.0, -1.0, 1.0, 1.0, 1.0, 1.0, -1.0, 1.0, -1.0, -1.0, 1.0, -1.0, -1.0, -1.0, -1.0, 1.0, 1.0, 1.0, 1.0, 1.0, -1.0, 1.0, 1.0, -1.0, -1.0, 1.0, 1.0, -1.0, 1.0, -1.0, -1.0, -1.0, -1.0, 1.0, -1.0, 1.0, -1.0, -1.0, 1.0, 1.0, 1.0, -1.0, 1.0, 1.0, -1.0, -1.0, 1.0, -1.0, 1.0, 1.0, 1.0, 1.0, 1.0, 1.0, 1.0, -1.0, -1.0, -1.0, -1.0, 1.0, -1.0, 1.0, 1.0, 1.0, -1.0, -1.0, -1.0, -1.0, -1.0, -1.0, -1.0]\n"
     ]
    }
   ],
   "source": [
    "data_arr, label_arr = load_dataset('testSet.txt')\n",
    "print(label_arr)"
   ]
  },
  {
   "cell_type": "code",
   "execution_count": 10,
   "metadata": {},
   "outputs": [],
   "source": [
    "def smo_simple(data, classlabels, C, toler, max_iter):\n",
    "    \"\"\"\n",
    "    C:常数\n",
    "    toler:容错率\n",
    "    \"\"\"\n",
    "    data_mat = np.mat(data)\n",
    "    label_mat = np.mat(classlabels).transpose()\n",
    "    b = 0; m,n = np.shape(data_mat)\n",
    "    alphas = np.mat(np.zeros((m, 1)))\n",
    "    num = 0\n",
    "    while (num < max_iter):\n",
    "        alpha_pair_changed = 0 \n",
    "        for i in range(m):\n",
    "            fXi = float(np.multiply(alphas, label_mat).T * \\\n",
    "                (data_mat * data_mat[i, :].T)) + b  # 计算出的类别\n",
    "            Ei = fXi - float(label_mat[i])  # 误差Ei，根据此优化\n",
    "            if ((label_mat[i] * Ei < -toler) and (alphas[i] < C)) or \\\n",
    "                ((label_mat[i] * Ei > toler) and (alphas[i] > 0) and \\\n",
    "                    (alphas[i] > 0)):   # 如果alpha可以改更改进入优化过程\n",
    "                j = select_jrand(i, m)  # 随机选择第二个alpha\n",
    "                fXj = float(np.multiply(alphas, label_mat).T * \\\n",
    "                    (data_mat * data_mat[j, :].T)) + b \n",
    "                Ej = fXj - float(label_mat[j])\n",
    "                alpha_i_old = alphas[i].copy()\n",
    "                alpha_j_old = alphas[j].copy() # \n",
    "                if (label_mat[i] != label_mat[j]):\n",
    "                    L = max(0, alphas[j] - alphas[i])\n",
    "                    H = min(C, C + alphas[j] - alphas[i])\n",
    "                else:\n",
    "                    L = max(0, alphas[j] + alphas[i] - C)\n",
    "                    H = min(C, alphas[j] + alphas[i])\n",
    "                if L == H: \n",
    "                    # print(\"L==H\")\n",
    "                    continue\n",
    "                eta = 2.0 * data_mat[i,:] * data_mat[i,:].T - \\\n",
    "                    data_mat[i,:]*data_mat[i,:].T - data_mat[j,:]*data_mat[j,:].T   # eta是alpha[j]的最优修改量\n",
    "                if eta >=0: \n",
    "                    # print(\"eta>=0\")\n",
    "                    continue \n",
    "                alphas[j] -= label_mat[j]*(Ei - Ej)/eta\n",
    "                alphas[j] = clip_alpha(alphas[j], H, L)\n",
    "                if (abs(alphas[j] - alpha_j_old) < 0.00001):\n",
    "                    # print(\"j not moving enough\")\n",
    "                    continue\n",
    "                alphas[i] += label_mat[j] * label_mat[i] * (alpha_j_old - alphas[j])   # i的修改方向和j相反\n",
    "                # 设置常数项\n",
    "                b1 = b - Ei \\\n",
    "                    - label_mat[i] * (alphas[i] - alpha_i_old) * data_mat[i,:] * data_mat[i,:].T \\\n",
    "                    - label_mat[j] * (alphas[j] - alpha_j_old) * data_mat[i,:] * data_mat[j,:].T\n",
    "                b2 = b - Ej \\\n",
    "                    - label_mat[i] * (alphas[i] - alpha_i_old) * data_mat[i,:] * data_mat[j,:].T \\\n",
    "                    - label_mat[j] * (alphas[j] - alpha_j_old) * data_mat[j,:] * data_mat[j,:].T\n",
    "                if (0 < alphas[i]) and (C > alphas[i]):\n",
    "                    b = b1 \n",
    "                elif (0 < alphas[j]) and (C > alphas[j]):\n",
    "                    b = b2 \n",
    "                else:\n",
    "                    b = (b1 + b2) / 2.0\n",
    "                alpha_pair_changed += 1\n",
    "                # print(\"iter : %d i:%d, pairs changed %d\" % \\\n",
    "                #     (num, i, alpha_pair_changed))\n",
    "        if (alpha_pair_changed == 0): \n",
    "            num += 1\n",
    "        else: \n",
    "            num = 0\n",
    "        # print(\"iteration number: %d\" % num)\n",
    "    return b, alphas"
   ]
  },
  {
   "cell_type": "code",
   "execution_count": 51,
   "metadata": {
    "tags": []
   },
   "outputs": [],
   "source": [
    "b, alphas = smo_simple(data_arr, label_arr, 0.6, 0.001, 40)"
   ]
  },
  {
   "cell_type": "code",
   "execution_count": 12,
   "metadata": {},
   "outputs": [
    {
     "output_type": "execute_result",
     "data": {
      "text/plain": [
       "matrix([[-27.18501339]])"
      ]
     },
     "metadata": {},
     "execution_count": 12
    }
   ],
   "source": [
    "b"
   ]
  },
  {
   "cell_type": "code",
   "execution_count": 13,
   "metadata": {},
   "outputs": [
    {
     "output_type": "execute_result",
     "data": {
      "text/plain": [
       "matrix([[5.40900002e-01, 1.87916540e-02, 6.00000000e-01, 1.73381624e-01,\n",
       "         3.03611838e-01, 5.54885114e-01, 1.73472348e-18]])"
      ]
     },
     "metadata": {},
     "execution_count": 13
    }
   ],
   "source": [
    "alphas[alphas>0]"
   ]
  },
  {
   "cell_type": "code",
   "execution_count": 14,
   "metadata": {},
   "outputs": [
    {
     "output_type": "stream",
     "name": "stdout",
     "text": [
      "[4.658191, 3.507396] -1.0\n[8.197181, 1.545132] 1.0\n[5.286862, -2.358286] 1.0\n[6.016004, -3.753712] 1.0\n[7.27946, -0.189572] 1.0\n[-0.236713, -5.766721] -1.0\n[9.803425, 1.495167] 1.0\n"
     ]
    }
   ],
   "source": [
    "for i in range(100):\n",
    "    if alphas[i] > 0.0:\n",
    "        print(data_arr[i], label_arr[i])"
   ]
  },
  {
   "cell_type": "code",
   "execution_count": 15,
   "metadata": {},
   "outputs": [],
   "source": [
    "# 利用完整的platt SMO 优化算法"
   ]
  },
  {
   "cell_type": "code",
   "execution_count": 45,
   "metadata": {},
   "outputs": [],
   "source": [
    "class DataStruct:\n",
    "    def __init__(self, data_mat, classlabels, C, toler):\n",
    "        self.X = data_mat\n",
    "        self.label_mat = classlabels\n",
    "        self.C = C \n",
    "        self.tol = toler \n",
    "        self.m = np.shape(data_mat)[0]\n",
    "        self.alphas = np.mat(np.zeros((self.m, 1)))\n",
    "        self.b = 0\n",
    "        self.e_cache = np.mat(np.zeros((self.m, 2)))\n",
    "\n",
    "\n",
    "def calc_ek(ds, k):\n",
    "    fXk = np.multiply(ds.alphas, ds.label_mat).T *\\\n",
    "        (ds.X * ds.X[k,:].T) + ds.b\n",
    "    Ek = float(fXk[0][0]) - float(ds.label_mat[k])\n",
    "    return Ek\n",
    "\n",
    "def select_j(i, ds, Ei):\n",
    "    max_k = -1\n",
    "    max_deltaE = 0\n",
    "    Ej = 0  # 内循环中的启发式方法\n",
    "    ds.e_cache[i] = [1, Ei]\n",
    "    valid_Ecache_lst = np.nonzero(np.array(ds.e_cache[:, 0]))[0]\n",
    "    if (len(valid_Ecache_lst) > 1):\n",
    "        # >1说明至之前计算过别的E，选择最大的进行优化\n",
    "        for k in valid_Ecache_lst:\n",
    "            if k == i:\n",
    "                continue\n",
    "            Ek = calc_ek(ds, k)\n",
    "            deltaE = abs(Ei - Ek)\n",
    "            if (deltaE > max_deltaE):\n",
    "                max_k = k\n",
    "                max_deltaE = deltaE \n",
    "        return max_k, Ej \n",
    "    else:\n",
    "        # 第一次循环就直接随机选择一个j\n",
    "        j = select_jrand(i, ds.m)\n",
    "        Ej = calc_ek(ds, j)\n",
    "    return j, Ej \n",
    "\n",
    "\n",
    "def updateEk(ds, k):\n",
    "    Ek = calc_ek(ds, k)\n",
    "    ds.e_cache[k] = [1, Ek]"
   ]
  },
  {
   "cell_type": "code",
   "execution_count": 55,
   "metadata": {},
   "outputs": [],
   "source": [
    "def innerL(i, ds):\n",
    "    Ei = calc_ek(ds, i)\n",
    "    if ((ds.label_mat[i] * Ei < -ds.tol) and (ds.alphas[i] < ds.C)) or \\\n",
    "        ((ds.label_mat[i] * Ei > ds.tol) and (ds.alphas[i] > 0)):\n",
    "        j, Ej = select_j(i, ds, Ei) # 第二个alpha选择中的启发式方法\n",
    "        alpha_i_old = ds.alphas[i].copy()\n",
    "        alpha_j_old = ds.alphas[j].copy()\n",
    "        if (ds.label_mat[i] != ds.label_mat[j]):\n",
    "            L = max(0, ds.label_mat[j] - ds.label_mat[i])\n",
    "            H = min(ds.C, ds.C + ds.label_mat[j] - ds.label_mat[i])\n",
    "        else:\n",
    "            L = max(0, ds.label_mat[j] + ds.label_mat[i] - ds.C)\n",
    "            H = min(ds.C, ds.label_mat[j] + ds.label_mat[i])\n",
    "        if L == H:\n",
    "            # print(\"L==H\")\n",
    "            return 0 \n",
    "        eta = 2.0 * ds.X[i,:] * ds.X[i,:].T - \\\n",
    "                    ds.X[i,:]*ds.X[i,:].T - ds.X[j,:]*ds.X[j,:].T\n",
    "        if eta >=0: \n",
    "            # print(\"eta>=0\")\n",
    "            return 0 \n",
    "        ds.alphas[j] -= ds.label_mat[j]*(Ei - Ej)/eta\n",
    "        ds.alphas[j] = clip_alpha(ds.alphas[j], H, L)\n",
    "        updateEk(ds, j)\n",
    "        if (abs(alphas[j] - alpha_j_old) < 0.00001):\n",
    "            # print(\"j not moving enough\")\n",
    "            return 0\n",
    "        ds.alphas[i] += ds.label_mat[j] * ds.label_mat[i] * (alpha_j_old - ds.alphas[j])\n",
    "        updateEk(ds, i) # 更新误差缓存\n",
    "        b1 = ds.b - Ei \\\n",
    "            - ds.label_mat[i] * (ds.alphas[i] - alpha_i_old) * ds.X[i,:] * ds.X[i,:].T \\\n",
    "            - ds.label_mat[j] * (ds.alphas[j] - alpha_j_old) * ds.X[i,:] * ds.X[j,:].T\n",
    "        b2 = ds.b - Ej \\\n",
    "            - ds.label_mat[i] * (ds.alphas[i] - alpha_i_old) * ds.X[i,:] * ds.X[j,:].T \\\n",
    "            - ds.label_mat[j] * (ds.alphas[j] - alpha_j_old) * ds.X[j,:] * ds.X[j,:].T\n",
    "        if (0 < ds.alphas[i]) and (ds.C > ds.alphas[i]):\n",
    "            ds.b = b1 \n",
    "        elif (0 < ds.alphas[j]) and (ds.C > ds.alphas[j]):\n",
    "            ds.b = b2 \n",
    "        else:\n",
    "            ds.b = (b1 + b2) / 2.0\n",
    "        return 1 \n",
    "    else:\n",
    "        return 0"
   ]
  },
  {
   "cell_type": "code",
   "execution_count": 62,
   "metadata": {},
   "outputs": [],
   "source": [
    "def smo_p(data_mat, classlabels, C, toler, max_iter, kTup=('lin', 0)):\n",
    "    \"\"\"完整SMO算法中的外循环代码\"\"\"\n",
    "    ds = DataStruct(np.mat(data_mat), np.mat(classlabels).transpose(), C, toler)\n",
    "    num = 0\n",
    "    entire_set = True \n",
    "    alpha_pairs_changed = 0\n",
    "    while (num < max_iter) and ((alpha_pairs_changed > 0) or (entire_set)):\n",
    "        alpha_pairs_changed = 0\n",
    "        if entire_set:  # 遍历所有值\n",
    "            for i in range(ds.m):\n",
    "                alpha_pairs_changed += innerL(i, ds)\n",
    "            # print(\"Fullset, iter: %d i: %d, pairs changed %d\" %\\\n",
    "            #     (num, i, alpha_pairs_changed))\n",
    "            num += 1\n",
    "        else:       # 遍历非边界值\n",
    "            non_bounds = np.nonzero((np.array(ds.alphas) > 0) * (np.array(ds.alphas) < C))[0]\n",
    "            for i in non_bounds:\n",
    "                alpha_pairs_changed += innerL(i, ds)\n",
    "                # print(\"non-bound, iter: %d i: %d, pairs changed %d\" %\\\n",
    "                #     (num, i, alpha_pairs_changed))\n",
    "                num += 1\n",
    "        if entire_set:\n",
    "            entire_set = False \n",
    "        elif alpha_pairs_changed == 0:\n",
    "            entire_set = True \n",
    "        # print(\"iteration number: %d\" % num)\n",
    "    return ds.b, ds.alphas"
   ]
  },
  {
   "cell_type": "code",
   "execution_count": 75,
   "metadata": {
    "tags": []
   },
   "outputs": [],
   "source": [
    "data_arr, label_arr = load_dataset('testSet.txt')\n",
    "b, alphas = smo_p(data_arr, label_arr, 0.6, 0.001, 40)"
   ]
  },
  {
   "source": [
    "b"
   ],
   "cell_type": "code",
   "metadata": {},
   "execution_count": 76,
   "outputs": [
    {
     "output_type": "execute_result",
     "data": {
      "text/plain": [
       "matrix([[-17.01456721]])"
      ]
     },
     "metadata": {},
     "execution_count": 76
    }
   ]
  },
  {
   "cell_type": "code",
   "execution_count": 77,
   "metadata": {},
   "outputs": [
    {
     "output_type": "execute_result",
     "data": {
      "text/plain": [
       "matrix([[0.6, 0.6]])"
      ]
     },
     "metadata": {},
     "execution_count": 77
    }
   ],
   "source": [
    "alphas[alphas>0.0]"
   ]
  },
  {
   "cell_type": "code",
   "execution_count": 78,
   "metadata": {},
   "outputs": [
    {
     "output_type": "stream",
     "name": "stdout",
     "text": [
      "[7.55151, -1.58003] 1.0\n[2.114999, -0.004466] -1.0\n"
     ]
    }
   ],
   "source": [
    "for i in range(100):\n",
    "    if alphas[i] > 0.0:\n",
    "        print(data_arr[i], label_arr[i])"
   ]
  },
  {
   "cell_type": "code",
   "execution_count": 79,
   "metadata": {},
   "outputs": [],
   "source": [
    "def calc_ws(alphas, data_arr, classlabels):\n",
    "    X = np.mat(data_arr)\n",
    "    label_mat = np.mat(classlabels).transpose()\n",
    "    m,n = np.shape(X)\n",
    "    w = np.zeros((n,1))\n",
    "    for i in range(m):\n",
    "        w += np.multiply(alphas[i] * label_mat[i], X[i,:].T)\n",
    "    return w"
   ]
  },
  {
   "cell_type": "code",
   "execution_count": 80,
   "metadata": {},
   "outputs": [],
   "source": [
    "ws = calc_ws(alphas, data_arr, label_arr)"
   ]
  },
  {
   "cell_type": "code",
   "execution_count": 81,
   "metadata": {},
   "outputs": [
    {
     "output_type": "execute_result",
     "data": {
      "text/plain": [
       "array([[ 3.2619066],\n",
       "       [-0.9453384]])"
      ]
     },
     "metadata": {},
     "execution_count": 81
    }
   ],
   "source": [
    "ws"
   ]
  },
  {
   "cell_type": "code",
   "execution_count": 82,
   "metadata": {},
   "outputs": [
    {
     "output_type": "execute_result",
     "data": {
      "text/plain": [
       "-1.0"
      ]
     },
     "metadata": {},
     "execution_count": 82
    }
   ],
   "source": [
    "label_arr[0]"
   ]
  },
  {
   "cell_type": "code",
   "execution_count": 86,
   "metadata": {},
   "outputs": [
    {
     "output_type": "execute_result",
     "data": {
      "text/plain": [
       "matrix([[-9.58388863]])"
      ]
     },
     "metadata": {},
     "execution_count": 86
    }
   ],
   "source": [
    "data_arr[1] * np.mat(ws) + b"
   ]
  },
  {
   "cell_type": "code",
   "execution_count": 87,
   "metadata": {},
   "outputs": [
    {
     "output_type": "execute_result",
     "data": {
      "text/plain": [
       "-1.0"
      ]
     },
     "metadata": {},
     "execution_count": 87
    }
   ],
   "source": [
    "label_arr[1]"
   ]
  },
  {
   "source": [
    "核函数"
   ],
   "cell_type": "markdown",
   "metadata": {}
  },
  {
   "cell_type": "code",
   "execution_count": 93,
   "metadata": {},
   "outputs": [],
   "source": [
    "def kernel_trans(X, A, ktup):\n",
    "    m,n = np.shape(X)\n",
    "    K = np.mat(np.zeros(m, 1))\n",
    "    if ktup[0] == 'lin':\n",
    "        K = X * A.T \n",
    "    elif ktup[0] == 'rbf':\n",
    "        for j in range(m):\n",
    "            delta_row = X[j, :] - A \n",
    "            K[j] = delta_row * delta_row.T \n",
    "        K = np.exp(K / (-1*ktup[1]**2)) # 元素间的除法\n",
    "    else:\n",
    "        raise NameError('Houston We Have a Problem --\\\n",
    "            That Kernel is not recognized')\n",
    "    return K"
   ]
  },
  {
   "cell_type": "code",
   "execution_count": 94,
   "metadata": {},
   "outputs": [],
   "source": [
    "class DataStruct:\n",
    "    def __init__(self, data_mat, classlabels, C, toler, ktup):\n",
    "        self.X = data_mat\n",
    "        self.label_mat = classlabels\n",
    "        self.C = C \n",
    "        self.tol = toler \n",
    "        self.m = np.shape(data_mat)[0]\n",
    "        self.alphas = np.mat(np.zeros((self.m, 1)))\n",
    "        self.b = 0\n",
    "        self.e_cache = np.mat(np.zeros((self.m, 2)))\n",
    "        self.K = np.mat(np.zeros(self.m, self.m))\n",
    "        for i in range(self.m):\n",
    "            self.K[:,i] = kernel_trans(self.X, self.X[i,:], ktup)"
   ]
  },
  {
   "cell_type": "code",
   "execution_count": 95,
   "metadata": {},
   "outputs": [],
   "source": [
    "def innerL(i, ds):\n",
    "    Ei = calc_ek(ds, i)\n",
    "    if ((ds.label_mat[i] * Ei < -ds.tol) and (ds.alphas[i] < ds.C)) or \\\n",
    "        ((ds.label_mat[i] * Ei > ds.tol) and (ds.alphas[i] > 0)):\n",
    "        j, Ej = select_j(i, ds, Ei) # 第二个alpha选择中的启发式方法\n",
    "        alpha_i_old = ds.alphas[i].copy()\n",
    "        alpha_j_old = ds.alphas[j].copy()\n",
    "        if (ds.label_mat[i] != ds.label_mat[j]):\n",
    "            L = max(0, ds.label_mat[j] - ds.label_mat[i])\n",
    "            H = min(ds.C, ds.C + ds.label_mat[j] - ds.label_mat[i])\n",
    "        else:\n",
    "            L = max(0, ds.label_mat[j] + ds.label_mat[i] - ds.C)\n",
    "            H = min(ds.C, ds.label_mat[j] + ds.label_mat[i])\n",
    "        if L == H:\n",
    "            # print(\"L==H\")\n",
    "            return 0 \n",
    "        eta = 2.0 * ds.K[i,j] - ds.K[i,i] - ds.K[j,j]\n",
    "        if eta >=0: \n",
    "            # print(\"eta>=0\")\n",
    "            return 0 \n",
    "        ds.alphas[j] -= ds.label_mat[j]*(Ei - Ej)/eta\n",
    "        ds.alphas[j] = clip_alpha(ds.alphas[j], H, L)\n",
    "        updateEk(ds, j)\n",
    "        if (abs(alphas[j] - alpha_j_old) < 0.00001):\n",
    "            # print(\"j not moving enough\")\n",
    "            return 0\n",
    "        ds.alphas[i] += ds.label_mat[j] * ds.label_mat[i] * (alpha_j_old - ds.alphas[j])\n",
    "        updateEk(ds, i) # 更新误差缓存\n",
    "        b1 = ds.b - Ei \\\n",
    "            - ds.label_mat[i] * (ds.alphas[i] - alpha_i_old) * ds.K[i,i] \\\n",
    "            - ds.label_mat[j] * (ds.alphas[j] - alpha_j_old) * ds.K[i,j]\n",
    "        b2 = ds.b - Ej \\\n",
    "            - ds.label_mat[i] * (ds.alphas[i] - alpha_i_old) * ds.K[i,j] \\\n",
    "            - ds.label_mat[j] * (ds.alphas[j] - alpha_j_old) * ds.K[j,j]\n",
    "        if (0 < ds.alphas[i]) and (ds.C > ds.alphas[i]):\n",
    "            ds.b = b1 \n",
    "        elif (0 < ds.alphas[j]) and (ds.C > ds.alphas[j]):\n",
    "            ds.b = b2 \n",
    "        else:\n",
    "            ds.b = (b1 + b2) / 2.0\n",
    "        return 1 \n",
    "    else:\n",
    "        return 0\n",
    "\n",
    "\n",
    "def calc_ek(ds, k):\n",
    "    fXk = np.multiply(ds.alphas, ds.label_mat).T *\\\n",
    "        ds.K[:,k] + ds.b\n",
    "    Ek = float(fXk[0][0]) - float(ds.label_mat[k])\n",
    "    return Ek"
   ]
  },
  {
   "cell_type": "code",
   "execution_count": null,
   "metadata": {},
   "outputs": [],
   "source": [
    "# 利用核函数进行分类的径向基测试函数\n",
    "\n",
    "def test_rbf(k1 = 1.3):\n",
    "    "
   ]
  }
 ]
}