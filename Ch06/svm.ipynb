{
 "metadata": {
  "language_info": {
   "codemirror_mode": {
    "name": "ipython",
    "version": 3
   },
   "file_extension": ".py",
   "mimetype": "text/x-python",
   "name": "python",
   "nbconvert_exporter": "python",
   "pygments_lexer": "ipython3",
   "version": "3.8.10"
  },
  "orig_nbformat": 2,
  "kernelspec": {
   "name": "python3810jvsc74a57bd082b6f5812ea506d741ac7a355c38975a8264e75987c5404f7effc78bc7e6db28",
   "display_name": "Python 3.8.10 64-bit ('d2l': conda)"
  }
 },
 "nbformat": 4,
 "nbformat_minor": 2,
 "cells": [
  {
   "cell_type": "code",
   "execution_count": 1,
   "metadata": {},
   "outputs": [],
   "source": [
    "import numpy as np \n",
    "\n",
    "def load_dataset(filename):\n",
    "    data_mat = []; label_mat = []\n",
    "    with open(filename) as fr:\n",
    "        for line in fr.readlines():\n",
    "            line_arr = line.strip().split('\\t')\n",
    "            data_mat.append([float(line_arr[0]), float(line_arr[1])])\n",
    "            label_mat.append(float(line_arr[2]))\n",
    "    return data_mat, label_mat\n",
    "\n",
    "def select_jrand(i, m):\n",
    "    return np.random.randint(i, m)\n",
    "\n",
    "def clip_alpha(aj, H, L):\n",
    "    aj = max(aj, L)\n",
    "    aj = min(aj, H)\n",
    "    return aj"
   ]
  },
  {
   "cell_type": "code",
   "execution_count": 8,
   "metadata": {},
   "outputs": [
    {
     "output_type": "stream",
     "name": "stdout",
     "text": [
      "[-1.0, -1.0, 1.0, -1.0, 1.0, 1.0, 1.0, -1.0, -1.0, -1.0, -1.0, -1.0, -1.0, 1.0, -1.0, 1.0, 1.0, -1.0, 1.0, -1.0, -1.0, -1.0, 1.0, -1.0, -1.0, 1.0, 1.0, -1.0, -1.0, -1.0, -1.0, 1.0, 1.0, 1.0, 1.0, -1.0, 1.0, -1.0, -1.0, 1.0, -1.0, -1.0, -1.0, -1.0, 1.0, 1.0, 1.0, 1.0, 1.0, -1.0, 1.0, 1.0, -1.0, -1.0, 1.0, 1.0, -1.0, 1.0, -1.0, -1.0, -1.0, -1.0, 1.0, -1.0, 1.0, -1.0, -1.0, 1.0, 1.0, 1.0, -1.0, 1.0, 1.0, -1.0, -1.0, 1.0, -1.0, 1.0, 1.0, 1.0, 1.0, 1.0, 1.0, 1.0, -1.0, -1.0, -1.0, -1.0, 1.0, -1.0, 1.0, 1.0, 1.0, -1.0, -1.0, -1.0, -1.0, -1.0, -1.0, -1.0]\n"
     ]
    }
   ],
   "source": [
    "data_arr, label_arr = load_dataset('testSet.txt')\n",
    "print(label_arr)"
   ]
  },
  {
   "cell_type": "code",
   "execution_count": 27,
   "metadata": {},
   "outputs": [],
   "source": [
    "def smo_simple(data, classlabels, C, toler, max_iter):\n",
    "    \"\"\"\n",
    "    C:常数\n",
    "    toler:容错率\n",
    "    \"\"\"\n",
    "    data_mat = np.mat(data)\n",
    "    label_mat = np.mat(classlabels).transpose()\n",
    "    b = 0; m,n = np.shape(data_mat)\n",
    "    alphas = np.mat(np.zeros((m, 1)))\n",
    "    num = 0\n",
    "    while (num < max_iter):\n",
    "        alpha_pair_changed = 0 \n",
    "        for i in range(m):\n",
    "            fXi = float(np.multiply(alphas, label_mat).T * \\\n",
    "                (data_mat * data_mat[i, :].T)) + b  # 计算出的类别\n",
    "            Ei = fXi - float(label_mat[i])  # 误差Ei，根据此优化\n",
    "            if ((label_mat[i] * Ei < toler) and (alphas[i] < C)) or \\\n",
    "                ((label_mat[i] * Ei > toler) and (alphas[i] > 0) and \\\n",
    "                    (alphas[i] > 0)):   # 如果alpha可以改更改进入优化过程\n",
    "                j = select_jrand(i, m)  # 随机选择第二个alpha\n",
    "                fXj = float(np.multiply(alphas, label_mat).T * \\\n",
    "                    (data_mat * data_mat[j, :].T)) + b \n",
    "                Ej = fXj - float(label_mat[j])\n",
    "                alpha_i_hold = alphas[i].copy()\n",
    "                alpha_j_hold = alphas[j].copy()\n",
    "                if (label_mat[i] != label_mat[j]):\n",
    "                    L = max(0, alphas[j] - alphas[i])\n",
    "                    H = min(C, C + alphas[j] - alphas[i])\n",
    "                else:\n",
    "                    L = max(0, alphas[j] + alphas[i] - C)\n",
    "                    H = min(C, alphas[j] + alphas[i])\n",
    "                if L == H: \n",
    "                    # print(\"L==H\")\n",
    "                    continue\n",
    "                eta = 2.0 * data_mat[i,:] * data_mat[i,:].T - \\\n",
    "                    data_mat[i,:]*data_mat[i,:].T - data_mat[j,:]*data_mat[j,:].T   # eta是alpha[j]的最优修改量\n",
    "                if eta >=0: \n",
    "                    # print(\"eta>=0\")\n",
    "                    continue \n",
    "                alphas[j] -= label_mat[j]*(Ei - Ej)/eta\n",
    "                alphas[j] = clip_alpha(alphas[j], H, L)\n",
    "                if (abs(alphas[j] - alpha_j_hold) < 0.00001):\n",
    "                    # print(\"j not moving enough\")\n",
    "                    continue\n",
    "                alphas[i] += label_mat[j] * label_mat[i] * (alpha_j_hold - alphas[j])   # i的修改方向和j相反\n",
    "                b1 = b - Ei \\\n",
    "                    - label_mat[i] * (alphas[i] - alpha_i_hold) * data_mat[i,:] * data_mat[i,:].T \\\n",
    "                    - label_mat[j] * (alphas[j] - alpha_j_hold) * data_mat[i,:] * data_mat[j,:].T\n",
    "                b2 = b - Ej \\\n",
    "                    - label_mat[i] * (alphas[i] - alpha_i_hold) * data_mat[i,:] * data_mat[j,:].T \\\n",
    "                    - label_mat[j] * (alphas[j] - alpha_j_hold) * data_mat[j,:] * data_mat[j,:].T\n",
    "                if (0 < alphas[i]) and (C > alphas[i]):\n",
    "                    b = b1 \n",
    "                elif (0 < alphas[j]) and (C > alphas[j]):\n",
    "                    b = b2 \n",
    "                else:\n",
    "                    b = (b1 + b2) / 2.0\n",
    "                alpha_pair_changed += 1\n",
    "                # print(\"iter : %d i:%d, pairs changed %d\" % \\\n",
    "                #     (num, i, alpha_pair_changed))\n",
    "        if (alpha_pair_changed == 0): \n",
    "            num += 1\n",
    "        else: \n",
    "            num = 0\n",
    "        # print(\"iteration number: %d\" % num)\n",
    "    return b, alphas"
   ]
  },
  {
   "cell_type": "code",
   "execution_count": 31,
   "metadata": {
    "tags": []
   },
   "outputs": [
    {
     "output_type": "execute_result",
     "data": {
      "text/plain": [
       "matrix([[-3.886982]])"
      ]
     },
     "metadata": {},
     "execution_count": 31
    }
   ],
   "source": [
    "b, alphas = smo_simple(data_arr, label_arr, 0.6, 0.001, 40)"
   ]
  },
  {
   "cell_type": "code",
   "execution_count": 32,
   "metadata": {},
   "outputs": [
    {
     "output_type": "execute_result",
     "data": {
      "text/plain": [
       "matrix([[-3.886982]])"
      ]
     },
     "metadata": {},
     "execution_count": 32
    }
   ],
   "source": [
    "b"
   ]
  },
  {
   "cell_type": "code",
   "execution_count": 33,
   "metadata": {},
   "outputs": [
    {
     "output_type": "execute_result",
     "data": {
      "text/plain": [
       "matrix([[1.26943232e-01, 2.47039779e-01, 3.46944695e-17, 3.73990223e-01]])"
      ]
     },
     "metadata": {},
     "execution_count": 33
    }
   ],
   "source": [
    "alphas[alphas>0]"
   ]
  },
  {
   "cell_type": "code",
   "execution_count": 35,
   "metadata": {},
   "outputs": [
    {
     "output_type": "stream",
     "name": "stdout",
     "text": [
      "[4.658191, 3.507396] -1.0\n[3.457096, -0.082216] -1.0\n[8.804461, 3.044301] 1.0\n[6.080573, 0.418886] 1.0\n"
     ]
    }
   ],
   "source": [
    "for i in range(100):\n",
    "    if alphas[i] > 0.0:\n",
    "        print(data_arr[i], label_arr[i])"
   ]
  },
  {
   "cell_type": "code",
   "execution_count": 36,
   "metadata": {},
   "outputs": [],
   "source": [
    "# 利用完整的platt SMO 优化算法"
   ]
  },
  {
   "cell_type": "code",
   "execution_count": 41,
   "metadata": {},
   "outputs": [],
   "source": [
    "class DataStruct:\n",
    "    def __init__(self, data_mat, classlabels, C, toler):\n",
    "        self.X = data_mat\n",
    "        self.label_mat = classlabels\n",
    "        self.C = C \n",
    "        self.tol = toler \n",
    "        self.m = np.shape(data_mat)[0]\n",
    "        self.alphas = np.mat(np.zeros((self.m, 1)))\n",
    "        self.b = 0\n",
    "        self.e_cache = np.mat(np.zeros((self.m, 2)))\n",
    "\n",
    "\n",
    "def calc_ek(ds, k):\n",
    "    fXk = float(np.multiply(ds.alphas, ds.label_mat).T *\\\n",
    "        (ds.X * ds.X[k,:].T)) + ds.b\n",
    "    Ek = fXk - float(ds.label_mat[k])\n",
    "    return Ek\n",
    "\n",
    "def select_j(i, ds, Ei):\n",
    "    max_k = -1\n",
    "    max_deltaE = 0\n",
    "    Ej = 0\n",
    "    ds.e_cache[i] = [i, Ei]\n",
    "    valid_Ecache_lst = np.nonzero(np.array(ds.e_cache[:, 0]))[0]\n",
    "    if (len(valid_Ecache_lst) > 1):\n",
    "        for k in valid_Ecache_lst:\n",
    "            if k == i:\n",
    "                continue\n",
    "            Ek = calc_ek(ds, k)\n",
    "            deltaE = abs(Ei - Ek)\n",
    "            if (deltaE > max_deltaE):\n",
    "                max_k = k\n",
    "                max_deltaE = deltaE \n",
    "        return max_k, Ej \n",
    "    else:\n",
    "        j = select_jrand(i, ds.m)\n",
    "        Ej = calc_ek(ds, j)\n",
    "    return j, Ej \n",
    "\n",
    "\n",
    "def updateEk(ds, k):\n",
    "    Ek = calc_ek(ds, k)\n",
    "    ds.e_cache[k] = [1, Ek]"
   ]
  },
  {
   "cell_type": "code",
   "execution_count": 52,
   "metadata": {},
   "outputs": [],
   "source": [
    "def innerL(i, ds):\n",
    "    Ei = calc_ek(ds, i)\n",
    "    if ((ds.label_mat[i] * Ei < -ds.tol) and (ds.alphas[i] < ds.C)) or \\\n",
    "        ((ds.label_mat[i] * Ei > ds.tol) and (ds.alphas[i] > 0)):\n",
    "        j, Ej = select_j(i, ds, Ei)\n",
    "        alpha_i_old = ds.alphas[i].copy()\n",
    "        alpha_j_old = ds.alphas[j].copy()\n",
    "        if (ds.label_mat[i] != ds.label_mat[j]):\n",
    "            L = max(0, ds.label_mat[j] - ds.label_mat[i])\n",
    "            H = min(ds.C, ds.C + ds.label_mat[j] - ds.label_mat[i])\n",
    "        else:\n",
    "            L = max(0, ds.label_mat[j] + ds.label_mat[i] - ds.C)\n",
    "            H = min(ds.C, ds.label_mat[j] + ds.label_mat[i])\n",
    "        if L == H:\n",
    "            # print(\"L==H\")\n",
    "            return 0 \n",
    "        eta = 2.0 * ds.X[i,:] * ds.X[i,:].T - \\\n",
    "                    ds.X[i,:]*ds.X[i,:].T - ds.X[j,:]*ds.X[j,:].T\n",
    "        if eta >=0: \n",
    "            # print(\"eta>=0\")\n",
    "            return 0 \n",
    "        ds.alphas[j] -= ds.label_mat[j]*(Ei - Ej)/eta\n",
    "        ds.alphas[j] = clip_alpha(ds.alphas[j], H, L)\n",
    "        updateEk(ds, j)\n",
    "        if (abs(alphas[j] - alpha_j_old) < 0.00001):\n",
    "            # print(\"j not moving enough\")\n",
    "            return 0\n",
    "        ds.alphas[i] += ds.label_mat[j] * ds.label_mat[i] * (alpha_j_old - ds.alphas[j])\n",
    "        updateEk(ds, i)\n",
    "        b1 = ds.b - Ei \\\n",
    "            - ds.label_mat[i] * (ds.alphas[i] - alpha_i_old) * ds.X[i,:] * ds.X[i,:].T \\\n",
    "            - ds.label_mat[j] * (ds.alphas[j] - alpha_j_old) * ds.X[i,:] * ds.X[j,:].T\n",
    "        b2 = ds.b - Ej \\\n",
    "            - ds.label_mat[i] * (ds.alphas[i] - alpha_i_old) * ds.X[i,:] * ds.X[j,:].T \\\n",
    "            - ds.label_mat[j] * (ds.alphas[j] - alpha_j_old) * ds.X[j,:] * ds.X[j,:].T\n",
    "        if (0 < ds.alphas[i]) and (ds.C > ds.alphas[i]):\n",
    "            ds.b = b1 \n",
    "        elif (0 < ds.alphas[j]) and (ds.C > ds.alphas[j]):\n",
    "            ds.b = b2 \n",
    "        else:\n",
    "            ds.b = (b1 + b2) / 2.0\n",
    "        return 1 \n",
    "    else:\n",
    "        return 0"
   ]
  },
  {
   "cell_type": "code",
   "execution_count": 53,
   "metadata": {},
   "outputs": [],
   "source": [
    "def smo_p(data_mat, classlabels, C, toler, max_iter, kTup=('lin', 0)):\n",
    "    ds = DataStruct(np.mat(data_mat), np.mat(classlabels).transpose(), C, toler)\n",
    "    num = 0\n",
    "    entire_set = True \n",
    "    alpha_pairs_changed = 0\n",
    "    while ((num < max_iter) and (alpha_pairs_changed > 0) or (entire_set)):\n",
    "        alpha_pairs_changed = 0\n",
    "        if entire_set:  # 遍历所有值\n",
    "            for i in range(ds.m):\n",
    "                alpha_pairs_changed += innerL(i, ds)\n",
    "            print(\"Fullset, iter: %d i: %d, pairs changed %d\" %\\\n",
    "                (num, i, alpha_pairs_changed))\n",
    "            num += 1\n",
    "        else:       # 遍历非边界值\n",
    "            non_bounds = np.nonzero((np.array(ds.alphas) > 0) * (np.array(ds.alphas) < C))[0]\n",
    "            for i in non_bounds:\n",
    "                alpha_pairs_changed += innerL(i, ds)\n",
    "                print(\"non-bound, iter: %d i: %d, pairs changed %d\" %\\\n",
    "                    (num, i, alpha_pairs_changed))\n",
    "                num += 1\n",
    "        if entire_set:\n",
    "            entire_set = False \n",
    "        elif alpha_pairs_changed == 0:\n",
    "            entire_set = True \n",
    "        print(\"iteration number: %d\" % num)\n",
    "    return ds.b, ds.alphas"
   ]
  },
  {
   "cell_type": "code",
   "execution_count": 60,
   "metadata": {},
   "outputs": [
    {
     "output_type": "stream",
     "name": "stderr",
     "text": [
      "<ipython-input-41-9b5ba94718f5>:23: DeprecationWarning: setting an array element with a sequence. This was supported in some cases where the elements are arrays with a single element. For example `np.array([1, np.array([2])], dtype=int)`. In the future this will raise the same ValueError as `np.array([1, [2]], dtype=int)`.\n",
      "  ds.e_cache[i] = [i, Ei]\n",
      "<ipython-input-41-9b5ba94718f5>:43: DeprecationWarning: setting an array element with a sequence. This was supported in some cases where the elements are arrays with a single element. For example `np.array([1, np.array([2])], dtype=int)`. In the future this will raise the same ValueError as `np.array([1, [2]], dtype=int)`.\n",
      "  ds.e_cache[k] = [1, Ek]\n",
      "Fullset, iter: 0 i: 99, pairs changed 8\n",
      "iteration number: 1\n",
      "iteration number: 1\n",
      "Fullset, iter: 1 i: 99, pairs changed 1\n",
      "iteration number: 2\n",
      "iteration number: 2\n",
      "Fullset, iter: 2 i: 99, pairs changed 1\n",
      "iteration number: 3\n",
      "iteration number: 3\n",
      "Fullset, iter: 3 i: 99, pairs changed 1\n",
      "iteration number: 4\n",
      "iteration number: 4\n",
      "Fullset, iter: 4 i: 99, pairs changed 1\n",
      "iteration number: 5\n",
      "iteration number: 5\n",
      "Fullset, iter: 5 i: 99, pairs changed 1\n",
      "iteration number: 6\n",
      "iteration number: 6\n",
      "Fullset, iter: 6 i: 99, pairs changed 1\n",
      "iteration number: 7\n",
      "iteration number: 7\n",
      "Fullset, iter: 7 i: 99, pairs changed 1\n",
      "iteration number: 8\n",
      "iteration number: 8\n",
      "Fullset, iter: 8 i: 99, pairs changed 1\n",
      "iteration number: 9\n",
      "iteration number: 9\n",
      "Fullset, iter: 9 i: 99, pairs changed 1\n",
      "iteration number: 10\n",
      "iteration number: 10\n",
      "Fullset, iter: 10 i: 99, pairs changed 1\n",
      "iteration number: 11\n",
      "iteration number: 11\n",
      "Fullset, iter: 11 i: 99, pairs changed 1\n",
      "iteration number: 12\n",
      "iteration number: 12\n",
      "Fullset, iter: 12 i: 99, pairs changed 0\n",
      "iteration number: 13\n"
     ]
    }
   ],
   "source": [
    "data_arr, label_arr = load_dataset('testSet.txt')\n",
    "b, alphas = smo_p(data_arr, label_arr, 0.6, 0.001, 40)"
   ]
  },
  {
   "cell_type": "code",
   "execution_count": 61,
   "metadata": {},
   "outputs": [
    {
     "output_type": "execute_result",
     "data": {
      "text/plain": [
       "matrix([[-17.52136278]])"
      ]
     },
     "metadata": {},
     "execution_count": 61
    }
   ],
   "source": [
    "b"
   ]
  },
  {
   "cell_type": "code",
   "execution_count": 62,
   "metadata": {},
   "outputs": [
    {
     "output_type": "execute_result",
     "data": {
      "text/plain": [
       "matrix([[0.6]])"
      ]
     },
     "metadata": {},
     "execution_count": 62
    }
   ],
   "source": [
    "alphas[alphas>0]"
   ]
  },
  {
   "cell_type": "code",
   "execution_count": null,
   "metadata": {},
   "outputs": [],
   "source": []
  }
 ]
}