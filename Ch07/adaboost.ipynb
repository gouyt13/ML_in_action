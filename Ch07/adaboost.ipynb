{
 "cells": [
  {
   "cell_type": "code",
   "execution_count": 2,
   "metadata": {},
   "outputs": [],
   "source": [
    "import numpy as np "
   ]
  },
  {
   "cell_type": "code",
   "execution_count": 3,
   "metadata": {},
   "outputs": [],
   "source": [
    "def loadSimpData():\n",
    "    datMat = np.matrix([[1., 2.1],\n",
    "                [2., 1.1],\n",
    "                [1.3, 1.],\n",
    "                [1.,  1.],\n",
    "                [2.,  1.]])\n",
    "    classLabels = [1.0, 1.0, -1.0, -1.0, 1.0]\n",
    "    return datMat, classLabels"
   ]
  },
  {
   "cell_type": "code",
   "execution_count": 4,
   "metadata": {},
   "outputs": [],
   "source": [
    "datMat, classLabels = loadSimpData()"
   ]
  },
  {
   "cell_type": "code",
   "execution_count": 5,
   "metadata": {},
   "outputs": [
    {
     "name": "stdout",
     "output_type": "stream",
     "text": [
      "[[1.  2.1]\n",
      " [2.  1.1]\n",
      " [1.3 1. ]\n",
      " [1.  1. ]\n",
      " [2.  1. ]]\n"
     ]
    }
   ],
   "source": [
    "print(datMat)"
   ]
  },
  {
   "cell_type": "code",
   "execution_count": 12,
   "metadata": {},
   "outputs": [],
   "source": [
    "def stumpClassify(dataMatrix, dimen, threshVal, threshIneq):\n",
    "    retArray = np.ones((dataMatrix.shape[0], 1))\n",
    "    if threshIneq == 'lt':\n",
    "        retArray[dataMatrix[:, dimen] <= threshVal] = -1.0\n",
    "    else:\n",
    "        retArray[dataMatrix[:, dimen] > threshVal] = -1.0\n",
    "    return retArray\n",
    "\n",
    "def bulidStump(dataArr, classLabels, D):\n",
    "    dataMatrix = np.mat(dataArr)\n",
    "    labelMat = np.mat(classLabels).T\n",
    "    m, n = dataMatrix.shape \n",
    "    numSteps = 10.0\n",
    "    bestStump = {}\n",
    "    bestClassEst = np.mat(np.zeros((m,1)))\n",
    "    minError = np.inf \n",
    "    for i in range(n):\n",
    "        rangeMin = dataMatrix[:,i].min()\n",
    "        rangeMax = dataMatrix[:,i].max()\n",
    "        stepSize = (rangeMax - rangeMin) / numSteps\n",
    "        for j in range(-1, int(numSteps) + 1):\n",
    "            for inequal in ['lt', 'gt']:\n",
    "                threshVal  = (rangeMin + float(j) * stepSize)\n",
    "                predictVals = stumpClassify(dataMatrix, i, threshVal, inequal)\n",
    "                errArr = np.mat(np.ones((m, 1)))\n",
    "                errArr[predictVals == labelMat] = 0\n",
    "                weightedError = D.T * errArr \n",
    "                # print(\"split: dim %d, thresh %.2f, thresh inequal: \\\n",
    "                #   %s, the weighted error is %.3f\" %\\\n",
    "                #   (i, threshVal, inequal, weightedError))\n",
    "                if weightedError < minError:\n",
    "                    minError = weightedError \n",
    "                    bestClassEst = predictVals.copy()\n",
    "                    bestStump['dim'] = i \n",
    "                    bestStump['thresh'] = threshVal \n",
    "                    bestStump['ineq'] = inequal\n",
    "    return bestStump, minError, bestClassEst\n"
   ]
  },
  {
   "cell_type": "code",
   "execution_count": 13,
   "metadata": {},
   "outputs": [
    {
     "data": {
      "text/plain": [
       "({'dim': 0, 'thresh': 1.3, 'ineq': 'lt'},\n",
       " matrix([[0.2]]),\n",
       " array([[-1.],\n",
       "        [ 1.],\n",
       "        [-1.],\n",
       "        [-1.],\n",
       "        [ 1.]]))"
      ]
     },
     "execution_count": 13,
     "metadata": {},
     "output_type": "execute_result"
    }
   ],
   "source": [
    "datMat, classLabels = loadSimpData()\n",
    "D = np.mat(np.ones((5,1)) / 5)\n",
    "bulidStump(datMat, classLabels, D)"
   ]
  },
  {
   "cell_type": "code",
   "execution_count": 88,
   "metadata": {},
   "outputs": [],
   "source": [
    "# 基于单层决策树的AdaBoost训练过程\n",
    "\n",
    "def adaBoostTrainDS(dataArr, classLabels, numIt = 40):\n",
    "    weakClassArr = []\n",
    "    m = dataArr.shape[0]\n",
    "    D = np.mat(np.ones((m, 1)) / m)\n",
    "    aggClassEst = np.mat(np.zeros((m, 1)))\n",
    "    for i in range(numIt):\n",
    "        bestStump, error, classEst = bulidStump(dataArr, classLabels, D)\n",
    "        # print(\"D:\", D.T)\n",
    "        alpha  = float(0.5 * np.log((1.0-error) / max(error, 1e-16)))\n",
    "        bestStump['alpha'] = alpha \n",
    "        weakClassArr.append(bestStump)\n",
    "        # print(\"aggClassEst: \", aggClassEst.T)\n",
    "        expon = np.multiply(-1*alpha*np.mat(classLabels).T, classEst) # 错分对应的指数为正，正确分类的指数为负\n",
    "        D = np.multiply(D, np.exp(expon))\n",
    "        D = D/D.sum()       # 为下次迭代计算D\n",
    "        aggClassEst += alpha * classEst\n",
    "        # print(\"aggClassEst: \", aggClassEst.T) \n",
    "        aggErrors = np.multiply(np.sign(aggClassEst) !=\n",
    "                                np.mat(classLabels).T, np.ones((m, 1)))\n",
    "        errorRate = aggErrors.sum() / m \n",
    "        # print(\"total error: \", errorRate, \"\\n\")\n",
    "        if errorRate == 0.0:\n",
    "            break \n",
    "\n",
    "    return weakClassArr, aggClassEst\n"
   ]
  },
  {
   "cell_type": "code",
   "execution_count": 89,
   "metadata": {},
   "outputs": [],
   "source": [
    "classifierArray, _ = adaBoostTrainDS(datMat, classLabels, 9)"
   ]
  },
  {
   "cell_type": "code",
   "execution_count": 90,
   "metadata": {},
   "outputs": [
    {
     "data": {
      "text/plain": [
       "[{'dim': 0, 'thresh': 1.3, 'ineq': 'lt', 'alpha': 0.6931471805599453},\n",
       " {'dim': 1, 'thresh': 1.0, 'ineq': 'lt', 'alpha': 0.9729550745276565},\n",
       " {'dim': 0, 'thresh': 0.9, 'ineq': 'lt', 'alpha': 0.8958797346140273}]"
      ]
     },
     "execution_count": 90,
     "metadata": {},
     "output_type": "execute_result"
    }
   ],
   "source": [
    "classifierArray"
   ]
  },
  {
   "cell_type": "code",
   "execution_count": 91,
   "metadata": {},
   "outputs": [],
   "source": [
    "# 测试算法，基于adaboost的分类 \n",
    "\n",
    "def adaClassify(datToClass, classifierArr):\n",
    "    dataMatrix = np.mat(datToClass)\n",
    "    m = dataMatrix.shape[0]\n",
    "    aggClassEst = np.mat(np.zeros((m, 1)))\n",
    "    for i in range(len(classifierArr)):\n",
    "        classEst = stumpClassify(dataMatrix, classifierArr[i]['dim'], \\\n",
    "                                             classifierArr[i]['thresh'],\\\n",
    "                                             classifierArr[i]['ineq'])\n",
    "        aggClassEst += classifierArr[i]['alpha'] * classEst\n",
    "        # print(aggClassEst)\n",
    "    return np.sign(aggClassEst)"
   ]
  },
  {
   "cell_type": "code",
   "execution_count": 92,
   "metadata": {},
   "outputs": [
    {
     "data": {
      "text/plain": [
       "matrix([[-1.]])"
      ]
     },
     "execution_count": 92,
     "metadata": {},
     "output_type": "execute_result"
    }
   ],
   "source": [
    "datArr, labelArr = loadSimpData()\n",
    "classifierArr,_ = adaBoostTrainDS(datArr, labelArr, 30)\n",
    "adaClassify([0, 0], classifierArray)"
   ]
  },
  {
   "cell_type": "code",
   "execution_count": 93,
   "metadata": {},
   "outputs": [
    {
     "data": {
      "text/plain": [
       "matrix([[ 1.],\n",
       "        [-1.]])"
      ]
     },
     "execution_count": 93,
     "metadata": {},
     "output_type": "execute_result"
    }
   ],
   "source": [
    "adaClassify([[5,5], [0,0]], classifierArray)"
   ]
  },
  {
   "cell_type": "code",
   "execution_count": 94,
   "metadata": {},
   "outputs": [],
   "source": [
    "# 在一个难数据集上应用adaboost \n",
    "\n",
    "def loadDataSet(fileName):\n",
    "    with open(fileName) as f:\n",
    "        numFeat = len(f.readline().split('\\t'))\n",
    "    with open(fileName) as f:\n",
    "        dataMat = []; labelMat = []\n",
    "        for line in f.readlines():\n",
    "            lineArr = []\n",
    "            curLine = line.strip().split('\\t')\n",
    "            for i in range(numFeat-1):\n",
    "                lineArr.append(float(curLine[i]))\n",
    "            dataMat.append(lineArr)\n",
    "            labelMat.append(float(curLine[-1]))\n",
    "    return np.mat(dataMat), np.mat(labelMat) "
   ]
  },
  {
   "cell_type": "code",
   "execution_count": 95,
   "metadata": {},
   "outputs": [],
   "source": [
    "datArr, labelArr = loadDataSet('horseColicTraining2.txt')\n",
    "classifierArray, _ = adaBoostTrainDS(datArr, labelArr, 10)"
   ]
  },
  {
   "cell_type": "code",
   "execution_count": 96,
   "metadata": {},
   "outputs": [
    {
     "data": {
      "text/plain": [
       "16"
      ]
     },
     "execution_count": 96,
     "metadata": {},
     "output_type": "execute_result"
    }
   ],
   "source": [
    "testArr, testLabelArr = loadDataSet('horseColicTest2.txt')\n",
    "prediction10 = adaClassify(testArr, classifierArray)\n",
    "(prediction10 != np.mat(testLabelArr).T).sum()"
   ]
  },
  {
   "cell_type": "markdown",
   "metadata": {},
   "source": [
    "# ROC 曲线绘制和AUC计算函数"
   ]
  },
  {
   "cell_type": "code",
   "execution_count": 158,
   "metadata": {},
   "outputs": [],
   "source": [
    "def plotROC(predStrengths, classLabels):\n",
    "    import matplotlib.pyplot as plt \n",
    "    cur = (1.0, 1.0)\n",
    "    ySum = 0.0\n",
    "    numPosClas = (np.array(classLabels) == 1.0).sum()\n",
    "    yStep = 1 / float(numPosClas)\n",
    "    xStep = 1 / float(classLabels.shape[1] - numPosClas)\n",
    "    sortedIndices = predStrengths.argsort().tolist()[0]\n",
    "    fig = plt.figure()\n",
    "    fig.clf()\n",
    "    ax = plt.subplot(111)\n",
    "    for index in sortedIndices:\n",
    "        if classLabels[0, index] == 1.0:\n",
    "            delX = 0; delY = yStep \n",
    "        else:\n",
    "            delX = xStep; delY = 0 \n",
    "            ySum += cur[1]\n",
    "        ax.plot([cur[0], cur[0]-delX], [cur[1], cur[1]-delY], c='b')\n",
    "        cur = (cur[0]-delX, cur[1]-delY)\n",
    "    ax.plot([0,1], [0,1], 'b--')\n",
    "    plt.xlabel(\"False Postive Rate\"); plt.ylabel(\"True Positive Rate\")\n",
    "    plt.title(\"ROC curve for AdaBoost Horse Colic Detection System\")\n",
    "    ax.axis([0,1,0,1])\n",
    "    plt.show()\n",
    "    print(\"The Area Under the Curve is: \", ySum * xStep)"
   ]
  },
  {
   "cell_type": "code",
   "execution_count": 159,
   "metadata": {},
   "outputs": [
    {
     "data": {
      "image/png": "[encoded data removed]",
      "text/plain": [
       "<Figure size 432x288 with 1 Axes>"
      ]
     },
     "metadata": {
      "needs_background": "light"
     },
     "output_type": "display_data"
    },
    {
     "name": "stdout",
     "output_type": "stream",
     "text": [
      "The Area Under the Curve is:  0.8582969635063604\n"
     ]
    }
   ],
   "source": [
    "dataArr, labelArr = loadDataSet(\"horseColicTraining2.txt\")\n",
    "classifierArray, aggClassEst = adaBoostTrainDS(dataArr, labelArr, 10)\n",
    "plotROC(aggClassEst.T, labelArr)"
   ]
  },
  {
   "cell_type": "code",
   "execution_count": null,
   "metadata": {},
   "outputs": [],
   "source": []
  }
 ],
 "metadata": {
  "interpreter": {
   "hash": "82b6f5812ea506d741ac7a355c38975a8264e75987c5404f7effc78bc7e6db28"
  },
  "kernelspec": {
   "display_name": "Python 3.8.10 64-bit ('d2l': conda)",
   "name": "python3"
  },
  "language_info": {
   "codemirror_mode": {
    "name": "ipython",
    "version": 3
   },
   "file_extension": ".py",
   "mimetype": "text/x-python",
   "name": "python",
   "nbconvert_exporter": "python",
   "pygments_lexer": "ipython3",
   "version": "3.8.10"
  },
  "orig_nbformat": 4
 },
 "nbformat": 4,
 "nbformat_minor": 2
}