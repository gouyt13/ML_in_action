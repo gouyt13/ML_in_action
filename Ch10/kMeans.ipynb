{
 "cells": [
  {
   "cell_type": "code",
   "execution_count": 1,
   "metadata": {},
   "outputs": [],
   "source": [
    "import numpy as np "
   ]
  },
  {
   "cell_type": "code",
   "execution_count": 75,
   "metadata": {},
   "outputs": [],
   "source": [
    "def loadDataSet(fileName):\n",
    "    dataMat = []\n",
    "    with open(fileName) as fr:\n",
    "        for line in fr.readlines():\n",
    "            curLine = line.strip().split('\\t')\n",
    "            fltLine = list(map(float, curLine))\n",
    "            dataMat.append(fltLine)\n",
    "    return dataMat\n",
    "\n",
    "def distEclud(vecA, vecB):\n",
    "    \"\"\"计算两个向量的欧氏距离\"\"\"\n",
    "    return np.sqrt(np.sum(np.power(vecA - vecB, 2)))\n",
    "\n",
    "def randCent(dataSet, k):\n",
    "    n = dataSet.shape[1]\n",
    "    centroids = np.mat(np.zeros((k, n)))\n",
    "    for j in range(n):\n",
    "        minJ = dataSet[:,j].min()\n",
    "        rangeJ = float(dataSet[:,j].max() - minJ)\n",
    "        centroids[:,j] = minJ + rangeJ * np.random.rand(k,1)\n",
    "    return centroids "
   ]
  },
  {
   "cell_type": "code",
   "execution_count": 76,
   "metadata": {},
   "outputs": [],
   "source": [
    "datMat = np.mat(loadDataSet('testSet.txt'))"
   ]
  },
  {
   "cell_type": "code",
   "execution_count": 77,
   "metadata": {},
   "outputs": [
    {
     "name": "stdout",
     "output_type": "stream",
     "text": [
      "-5.379713 4.838138\n",
      "-4.232586 5.1904\n"
     ]
    }
   ],
   "source": [
    "print(datMat[:,0].min(), datMat[:,0].max())\n",
    "print(datMat[:,1].min(), datMat[:,1].max())"
   ]
  },
  {
   "cell_type": "code",
   "execution_count": 78,
   "metadata": {},
   "outputs": [
    {
     "data": {
      "text/plain": [
       "matrix([[ 2.76180247,  1.68363201],\n",
       "        [ 0.3497634 , -1.43300819]])"
      ]
     },
     "execution_count": 78,
     "metadata": {},
     "output_type": "execute_result"
    }
   ],
   "source": [
    "randCent(datMat, 2)"
   ]
  },
  {
   "cell_type": "code",
   "execution_count": 79,
   "metadata": {},
   "outputs": [
    {
     "data": {
      "text/plain": [
       "5.184632816681332"
      ]
     },
     "execution_count": 79,
     "metadata": {},
     "output_type": "execute_result"
    }
   ],
   "source": [
    "distEclud(datMat[0], datMat[1])"
   ]
  },
  {
   "cell_type": "code",
   "execution_count": 80,
   "metadata": {},
   "outputs": [],
   "source": [
    "# k均值聚类算法\n",
    "\n",
    "def kMeans(dataSet, k, distMeas=distEclud, createCent=randCent):\n",
    "    m = dataSet.shape[0]\n",
    "    clusterAssment = np.mat(np.zeros((m, 2)))\n",
    "    centroids = createCent(dataSet, k)\n",
    "    clusterChanged = True \n",
    "    while clusterChanged:\n",
    "        clusterChanged = False\n",
    "        for i in range(m):\n",
    "            minDist = np.inf; minIndex = -1\n",
    "            for j in range(k):\n",
    "                distJI = distMeas(centroids[j,:], dataSet[i,:])\n",
    "                if distJI < minDist:            # 寻找最近的质心\n",
    "                    minDist = distJI; minIndex = j \n",
    "            if clusterAssment[i,0] != minIndex:\n",
    "                clusterChanged = True \n",
    "            clusterAssment[i,:] = minIndex, minDist ** 2\n",
    "        # print(centroids)\n",
    "        for cent in range(k):\n",
    "            pstInClust = dataSet[np.nonzero(clusterAssment[:,0].A == cent)[0]]  \n",
    "            centroids[cent, :] = np.mean(pstInClust, axis=0)       # 更新质心的质量\n",
    "    return centroids, clusterAssment"
   ]
  },
  {
   "cell_type": "code",
   "execution_count": 81,
   "metadata": {},
   "outputs": [],
   "source": [
    "datMat = np.mat(loadDataSet('testSet.txt'))\n",
    "_,_ = kMeans(datMat, 4)"
   ]
  },
  {
   "cell_type": "code",
   "execution_count": 140,
   "metadata": {},
   "outputs": [],
   "source": [
    "# 二分K-均值聚类算法\n",
    "\n",
    "def biKmeans(dataSet, k, distMeas=distEclud):\n",
    "    m = dataSet.shape[0]\n",
    "    clusterAssment = np.mat(np.zeros((m, 2)))\n",
    "    centroid0 = np.mean(dataSet, axis=0).tolist()[0]\n",
    "    centList = []\n",
    "    centList.append(centroid0)\n",
    "    for j in range(m):\n",
    "        clusterAssment[j,1] = distMeas(np.mat(centroid0), dataSet[j,:]) ** 2\n",
    "    while (len(centList) < k):\n",
    "        lowestSSE = np.inf \n",
    "        for i in range(len(centList)):\n",
    "            pstInCurrClutser = \\\n",
    "                dataSet[np.nonzero(clusterAssment[:,0].A==i)[0], :]\n",
    "            centroidMat, splitClustAss = \\\n",
    "                kMeans(pstInCurrClutser, 2, distMeas)\n",
    "            sseSplit = np.sum(splitClustAss[:,1])\n",
    "            sseNotSplit = \\\n",
    "                np.sum(dataSet[np.nonzero(clusterAssment[:,0].A!=i)[0], 1])\n",
    "            print(\"sseSplit, and not Split: \", sseSplit, sseNotSplit) \n",
    "            if (sseSplit + sseNotSplit) < lowestSSE:\n",
    "                bestCentToSplit = i \n",
    "                bestNewCents = centroidMat \n",
    "                bestClustAss = splitClustAss.copy()\n",
    "                lowestSSE = sseSplit + sseNotSplit \n",
    "        bestClustAss[np.nonzero(bestClustAss[:,0].A == 1)[0], 0] = len(centList)\n",
    "        bestClustAss[np.nonzero(bestClustAss[:,0].A == 0)[0], 0] = bestCentToSplit \n",
    "        print(\"the bestCentToSplit is: \", bestCentToSplit)\n",
    "        print(\"the len of bestClustAss is: \", len(bestClustAss))\n",
    "        centList[bestCentToSplit] = bestNewCents[0,:].tolist()[0]\n",
    "        centList.append(bestNewCents[1,:].tolist()[0])\n",
    "        clusterAssment[np.nonzero(clusterAssment[:,0].A == \\\n",
    "                            bestCentToSplit)[0],:] = bestClustAss \n",
    "    return np.mat(centList), clusterAssment"
   ]
  },
  {
   "cell_type": "code",
   "execution_count": 141,
   "metadata": {},
   "outputs": [],
   "source": [
    "datMat3 = np.mat(loadDataSet('testSet2.txt'))"
   ]
  },
  {
   "cell_type": "code",
   "execution_count": 142,
   "metadata": {},
   "outputs": [
    {
     "name": "stdout",
     "output_type": "stream",
     "text": [
      "sseSplit, and not Split:  541.2976292649145 0.0\n",
      "the bestCentToSplit is:  0\n",
      "the len of bestClustAss is:  60\n",
      "sseSplit, and not Split:  67.2202000797829 62.556557\n",
      "sseSplit, and not Split:  25.194262086233078 10.96325\n",
      "the bestCentToSplit is:  1\n",
      "the len of bestClustAss is:  20\n"
     ]
    }
   ],
   "source": [
    "centList, myNewAssements = biKmeans(datMat3, 3)"
   ]
  },
  {
   "cell_type": "code",
   "execution_count": 143,
   "metadata": {},
   "outputs": [
    {
     "data": {
      "text/plain": [
       "matrix([[-1.70351595,  0.27408125],\n",
       "        [ 1.788374  ,  2.990118  ],\n",
       "        [ 3.55066577,  3.20197931]])"
      ]
     },
     "execution_count": 143,
     "metadata": {},
     "output_type": "execute_result"
    }
   ],
   "source": [
    "centList"
   ]
  },
  {
   "cell_type": "code",
   "execution_count": 144,
   "metadata": {},
   "outputs": [],
   "source": [
    "import urllib\n",
    "import json"
   ]
  },
  {
   "cell_type": "code",
   "execution_count": 150,
   "metadata": {},
   "outputs": [],
   "source": [
    "def geoGrab(stAddress, city):\n",
    "    apiStem = 'http://where.yahooapis.com/geocode?'  #create a dict and constants for the goecoder\n",
    "    params = {}\n",
    "    params['flags'] = 'J'#JSON return type\n",
    "    params['appid'] = 'aaa0VN6k'\n",
    "    params['location'] = '%s %s' % (stAddress, city)\n",
    "    url_params = urllib.parse.urlencode(params)\n",
    "    yahooApi = apiStem + url_params      #print url_params\n",
    "    print(yahooApi)\n",
    "    c=urllib.request.urlopen(yahooApi)\n",
    "    return json.loads(c.read())"
   ]
  },
  {
   "cell_type": "code",
   "execution_count": null,
   "metadata": {},
   "outputs": [],
   "source": []
  }
 ],
 "metadata": {
  "interpreter": {
   "hash": "82b6f5812ea506d741ac7a355c38975a8264e75987c5404f7effc78bc7e6db28"
  },
  "kernelspec": {
   "display_name": "Python 3.8.10 64-bit ('d2l': conda)",
   "name": "python3"
  },
  "language_info": {
   "codemirror_mode": {
    "name": "ipython",
    "version": 3
   },
   "file_extension": ".py",
   "mimetype": "text/x-python",
   "name": "python",
   "nbconvert_exporter": "python",
   "pygments_lexer": "ipython3",
   "version": "3.8.10"
  },
  "orig_nbformat": 4
 },
 "nbformat": 4,
 "nbformat_minor": 2
}